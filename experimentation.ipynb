{
 "cells": [
  {
   "cell_type": "code",
   "execution_count": 103,
   "metadata": {},
   "outputs": [],
   "source": [
    "import pandas as pd\n",
    "import json"
   ]
  },
  {
   "cell_type": "code",
   "execution_count": 43,
   "metadata": {},
   "outputs": [],
   "source": [
    "file_path = \"milanote-activities.csv\"\n",
    "data = pd.read_csv(file_path)"
   ]
  },
  {
   "cell_type": "code",
   "execution_count": 44,
   "metadata": {},
   "outputs": [
    {
     "name": "stdout",
     "output_type": "stream",
     "text": [
      "Preview of the dataset:\n"
     ]
    },
    {
     "data": {
      "text/html": [
       "<div>\n",
       "<style scoped>\n",
       "    .dataframe tbody tr th:only-of-type {\n",
       "        vertical-align: middle;\n",
       "    }\n",
       "\n",
       "    .dataframe tbody tr th {\n",
       "        vertical-align: top;\n",
       "    }\n",
       "\n",
       "    .dataframe thead th {\n",
       "        text-align: right;\n",
       "    }\n",
       "</style>\n",
       "<table border=\"1\" class=\"dataframe\">\n",
       "  <thead>\n",
       "    <tr style=\"text-align: right;\">\n",
       "      <th></th>\n",
       "      <th>id</th>\n",
       "      <th>createdAt</th>\n",
       "      <th>campaignId</th>\n",
       "      <th>offerId</th>\n",
       "      <th>sender</th>\n",
       "      <th>message</th>\n",
       "      <th>type</th>\n",
       "      <th>userId</th>\n",
       "      <th>stageId</th>\n",
       "      <th>input</th>\n",
       "      <th>dateInput</th>\n",
       "      <th>attachments</th>\n",
       "      <th>submitted</th>\n",
       "      <th>approved</th>\n",
       "      <th>feedback</th>\n",
       "      <th>feedbackAttachments</th>\n",
       "    </tr>\n",
       "  </thead>\n",
       "  <tbody>\n",
       "    <tr>\n",
       "      <th>0</th>\n",
       "      <td>8593</td>\n",
       "      <td>2024-11-25T19:01:26.423Z</td>\n",
       "      <td>021b7fc2-b4cb-4d6f-81f9-04e3e0cba46f</td>\n",
       "      <td>NaN</td>\n",
       "      <td>Milanote</td>\n",
       "      <td>Approved Draft Video With Feedback:\\nHey shar,...</td>\n",
       "      <td>NaN</td>\n",
       "      <td>NaN</td>\n",
       "      <td>5</td>\n",
       "      <td>https://drive.google.com/file/d/1ogbYpjX4FAx2k...</td>\n",
       "      <td>2024-11-28T00:00:00.000Z</td>\n",
       "      <td>NaN</td>\n",
       "      <td>True</td>\n",
       "      <td>True</td>\n",
       "      <td>Hey shar, \\n\\nThe integration segment looks gr...</td>\n",
       "      <td>NaN</td>\n",
       "    </tr>\n",
       "    <tr>\n",
       "      <th>1</th>\n",
       "      <td>8593</td>\n",
       "      <td>2024-11-25T19:01:26.423Z</td>\n",
       "      <td>021b7fc2-b4cb-4d6f-81f9-04e3e0cba46f</td>\n",
       "      <td>NaN</td>\n",
       "      <td>shar</td>\n",
       "      <td>Submitted Draft Video</td>\n",
       "      <td>NaN</td>\n",
       "      <td>NaN</td>\n",
       "      <td>5</td>\n",
       "      <td>https://drive.google.com/file/d/1ogbYpjX4FAx2k...</td>\n",
       "      <td>2024-11-28T00:00:00.000Z</td>\n",
       "      <td>NaN</td>\n",
       "      <td>True</td>\n",
       "      <td>True</td>\n",
       "      <td>Hey shar, \\n\\nThe integration segment looks gr...</td>\n",
       "      <td>NaN</td>\n",
       "    </tr>\n",
       "    <tr>\n",
       "      <th>2</th>\n",
       "      <td>8198</td>\n",
       "      <td>2024-11-19T05:24:59.336Z</td>\n",
       "      <td>021b7fc2-b4cb-4d6f-81f9-04e3e0cba46f</td>\n",
       "      <td>NaN</td>\n",
       "      <td>Milanote</td>\n",
       "      <td>Approved Draft Script With Feedback:\\nHey shar...</td>\n",
       "      <td>NaN</td>\n",
       "      <td>NaN</td>\n",
       "      <td>4</td>\n",
       "      <td>[hi Himika/Milanote team! :) if you need addit...</td>\n",
       "      <td>NaN</td>\n",
       "      <td>NaN</td>\n",
       "      <td>True</td>\n",
       "      <td>True</td>\n",
       "      <td>Hey shar, \\n\\nThe script looks great and bring...</td>\n",
       "      <td>NaN</td>\n",
       "    </tr>\n",
       "    <tr>\n",
       "      <th>3</th>\n",
       "      <td>8198</td>\n",
       "      <td>2024-11-19T05:24:59.336Z</td>\n",
       "      <td>021b7fc2-b4cb-4d6f-81f9-04e3e0cba46f</td>\n",
       "      <td>NaN</td>\n",
       "      <td>shar</td>\n",
       "      <td>Submitted Draft Script</td>\n",
       "      <td>NaN</td>\n",
       "      <td>NaN</td>\n",
       "      <td>4</td>\n",
       "      <td>[hi Himika/Milanote team! :) if you need addit...</td>\n",
       "      <td>NaN</td>\n",
       "      <td>NaN</td>\n",
       "      <td>True</td>\n",
       "      <td>True</td>\n",
       "      <td>Hey shar, \\n\\nThe script looks great and bring...</td>\n",
       "      <td>NaN</td>\n",
       "    </tr>\n",
       "    <tr>\n",
       "      <th>4</th>\n",
       "      <td>6600</td>\n",
       "      <td>2024-10-18T21:59:59.724Z</td>\n",
       "      <td>021b7fc2-b4cb-4d6f-81f9-04e3e0cba46f</td>\n",
       "      <td>NaN</td>\n",
       "      <td>Milanote</td>\n",
       "      <td>Approved Video Topic &amp; Milanote Use Case With ...</td>\n",
       "      <td>NaN</td>\n",
       "      <td>NaN</td>\n",
       "      <td>1</td>\n",
       "      <td>changing video topic to be the process of maki...</td>\n",
       "      <td>NaN</td>\n",
       "      <td>NaN</td>\n",
       "      <td>True</td>\n",
       "      <td>True</td>\n",
       "      <td>Hey shar,\\n\\nThat sounds great - I am happy to...</td>\n",
       "      <td>NaN</td>\n",
       "    </tr>\n",
       "  </tbody>\n",
       "</table>\n",
       "</div>"
      ],
      "text/plain": [
       "     id                 createdAt                            campaignId  \\\n",
       "0  8593  2024-11-25T19:01:26.423Z  021b7fc2-b4cb-4d6f-81f9-04e3e0cba46f   \n",
       "1  8593  2024-11-25T19:01:26.423Z  021b7fc2-b4cb-4d6f-81f9-04e3e0cba46f   \n",
       "2  8198  2024-11-19T05:24:59.336Z  021b7fc2-b4cb-4d6f-81f9-04e3e0cba46f   \n",
       "3  8198  2024-11-19T05:24:59.336Z  021b7fc2-b4cb-4d6f-81f9-04e3e0cba46f   \n",
       "4  6600  2024-10-18T21:59:59.724Z  021b7fc2-b4cb-4d6f-81f9-04e3e0cba46f   \n",
       "\n",
       "   offerId    sender                                            message  type  \\\n",
       "0      NaN  Milanote  Approved Draft Video With Feedback:\\nHey shar,...   NaN   \n",
       "1      NaN      shar                              Submitted Draft Video   NaN   \n",
       "2      NaN  Milanote  Approved Draft Script With Feedback:\\nHey shar...   NaN   \n",
       "3      NaN      shar                             Submitted Draft Script   NaN   \n",
       "4      NaN  Milanote  Approved Video Topic & Milanote Use Case With ...   NaN   \n",
       "\n",
       "   userId  stageId                                              input  \\\n",
       "0     NaN        5  https://drive.google.com/file/d/1ogbYpjX4FAx2k...   \n",
       "1     NaN        5  https://drive.google.com/file/d/1ogbYpjX4FAx2k...   \n",
       "2     NaN        4  [hi Himika/Milanote team! :) if you need addit...   \n",
       "3     NaN        4  [hi Himika/Milanote team! :) if you need addit...   \n",
       "4     NaN        1  changing video topic to be the process of maki...   \n",
       "\n",
       "                  dateInput  attachments  submitted approved  \\\n",
       "0  2024-11-28T00:00:00.000Z          NaN       True     True   \n",
       "1  2024-11-28T00:00:00.000Z          NaN       True     True   \n",
       "2                       NaN          NaN       True     True   \n",
       "3                       NaN          NaN       True     True   \n",
       "4                       NaN          NaN       True     True   \n",
       "\n",
       "                                            feedback  feedbackAttachments  \n",
       "0  Hey shar, \\n\\nThe integration segment looks gr...                  NaN  \n",
       "1  Hey shar, \\n\\nThe integration segment looks gr...                  NaN  \n",
       "2  Hey shar, \\n\\nThe script looks great and bring...                  NaN  \n",
       "3  Hey shar, \\n\\nThe script looks great and bring...                  NaN  \n",
       "4  Hey shar,\\n\\nThat sounds great - I am happy to...                  NaN  "
      ]
     },
     "execution_count": 44,
     "metadata": {},
     "output_type": "execute_result"
    }
   ],
   "source": [
    "print(\"Preview of the dataset:\")\n",
    "data.head()"
   ]
  },
  {
   "cell_type": "markdown",
   "metadata": {},
   "source": [
    "Check for emptry rows"
   ]
  },
  {
   "cell_type": "code",
   "execution_count": 45,
   "metadata": {},
   "outputs": [
    {
     "name": "stdout",
     "output_type": "stream",
     "text": [
      "\n",
      "Number of empty rows: 0\n"
     ]
    }
   ],
   "source": [
    "empty_rows = data[data.isnull().all(axis=1)]\n",
    "print(f\"\\nNumber of empty rows: {len(empty_rows)}\")\n",
    "if not empty_rows.empty:\n",
    "    print(\"Empty rows detected:\")\n",
    "    print(empty_rows)"
   ]
  },
  {
   "cell_type": "markdown",
   "metadata": {},
   "source": [
    "Check for emptry columns"
   ]
  },
  {
   "cell_type": "code",
   "execution_count": 46,
   "metadata": {},
   "outputs": [
    {
     "name": "stdout",
     "output_type": "stream",
     "text": [
      "\n",
      "Number of empty columns: 5\n",
      "Empty columns detected:\n",
      "['offerId', 'type', 'userId', 'attachments', 'feedbackAttachments']\n"
     ]
    }
   ],
   "source": [
    "empty_columns = [col for col in data.columns if data[col].isnull().all()]\n",
    "print(f\"\\nNumber of empty columns: {len(empty_columns)}\")\n",
    "if empty_columns:\n",
    "    print(\"Empty columns detected:\")\n",
    "    print(empty_columns)"
   ]
  },
  {
   "cell_type": "code",
   "execution_count": 47,
   "metadata": {},
   "outputs": [],
   "source": [
    "# Drop empty columns\n",
    "data = data.dropna(axis=1, how='all')"
   ]
  },
  {
   "cell_type": "markdown",
   "metadata": {},
   "source": [
    "**stageId** specifies which stage of the process\n",
    "- 5: video submission and approval\n",
    "- 4: script submission and approval\n",
    "- 1: topic submission and approval"
   ]
  },
  {
   "cell_type": "code",
   "execution_count": 48,
   "metadata": {},
   "outputs": [
    {
     "data": {
      "text/plain": [
       "stageId\n",
       "5    206\n",
       "4    153\n",
       "1     96\n",
       "Name: count, dtype: int64"
      ]
     },
     "execution_count": 48,
     "metadata": {},
     "output_type": "execute_result"
    }
   ],
   "source": [
    "data[\"stageId\"].value_counts()"
   ]
  },
  {
   "cell_type": "markdown",
   "metadata": {},
   "source": [
    "### cleaning all submissions to clearly see decisions, inputs and feedback for each campaign id"
   ]
  },
  {
   "cell_type": "code",
   "execution_count": 64,
   "metadata": {},
   "outputs": [],
   "source": [
    "# only keeping rows that have some rejection or approval decision\n",
    "data_new = data[data[\"message\"].str.lower().str.split().str[0].isin([\"approved\", \"rejected\"])]"
   ]
  },
  {
   "cell_type": "code",
   "execution_count": 68,
   "metadata": {},
   "outputs": [
    {
     "name": "stderr",
     "output_type": "stream",
     "text": [
      "/var/folders/j0/cdb0d43n50766_hv14h2q26m0000gn/T/ipykernel_12140/335158838.py:1: SettingWithCopyWarning: \n",
      "A value is trying to be set on a copy of a slice from a DataFrame.\n",
      "Try using .loc[row_indexer,col_indexer] = value instead\n",
      "\n",
      "See the caveats in the documentation: https://pandas.pydata.org/pandas-docs/stable/user_guide/indexing.html#returning-a-view-versus-a-copy\n",
      "  data_new[\"decision\"] = data_new[\"message\"].str.lower().str.split().str[0].map({\n"
     ]
    }
   ],
   "source": [
    "data_new[\"decision\"] = data_new[\"message\"].str.lower().str.split().str[0].map({\n",
    "    \"approved\": 1,\n",
    "    \"rejected\": 0\n",
    "})"
   ]
  },
  {
   "cell_type": "code",
   "execution_count": null,
   "metadata": {},
   "outputs": [],
   "source": [
    "data_new.head()"
   ]
  },
  {
   "cell_type": "markdown",
   "metadata": {},
   "source": [
    "generating dataframe just for scripts"
   ]
  },
  {
   "cell_type": "code",
   "execution_count": null,
   "metadata": {},
   "outputs": [],
   "source": [
    "data_scripts = data_new[data_new[\"stageId\"] == 4]"
   ]
  },
  {
   "cell_type": "code",
   "execution_count": 74,
   "metadata": {},
   "outputs": [
    {
     "data": {
      "text/plain": [
       "decision\n",
       "1    65\n",
       "0    10\n",
       "Name: count, dtype: int64"
      ]
     },
     "execution_count": 74,
     "metadata": {},
     "output_type": "execute_result"
    }
   ],
   "source": [
    "data_scripts[\"decision\"].value_counts()"
   ]
  },
  {
   "cell_type": "code",
   "execution_count": null,
   "metadata": {},
   "outputs": [],
   "source": [
    "data_scripts"
   ]
  },
  {
   "cell_type": "markdown",
   "metadata": {},
   "source": [
    "## testing feedback key point extraction"
   ]
  },
  {
   "cell_type": "code",
   "execution_count": null,
   "metadata": {},
   "outputs": [],
   "source": [
    "from openai import OpenAI\n",
    "import os\n",
    "\n",
    "client = OpenAI(\n",
    "    api_key=\"insert key\"\n",
    ")\n"
   ]
  },
  {
   "cell_type": "markdown",
   "metadata": {},
   "source": [
    "### Method 1: Extracting key points from the brief"
   ]
  },
  {
   "cell_type": "code",
   "execution_count": 467,
   "metadata": {},
   "outputs": [],
   "source": [
    "script = \"\"\"\n",
    "Every now and then I like to compare my old art and the art I make currently to see if I’m improving, and also critic myself and find areas in my art I can improve on and get better. But it’s usually difficult organizing every drawing together and putting side by side on the same page so i reached out to the heavens for help and the art gods blessed me with milanote, the sponsor of today’s video. Milanote is an interactive tool that helps you organize all the different files for your CREATIVE projects on one platform so accessing them can be easier. Milanote allows you to collect and organize pictures, videos, notes and text, and arrange them into different boards using any of their built in templates that make it easy to start off your creative projects. You can also create several tasks for different things you want to study, and tick them when you’re done. For this instance, I’ll start by creating a general board where I’ll layout a broad overview that covers everything concerning the project I’m about to work on. next I’ll move on to place my references in a sub board and place my old art and current art in separate boards so I know where to find each of them. Then I create a new board where I place both drawings side by side so I can compare them, and also make notes on things I want to improve on or change. I like to use milanote’s web clipper tool when gathering screenshots from other artists that draw in a style I admire, and then save every image or screenshot I find useful In the board. \n",
    " This also works well when you’re collaborating with other artists and working on the same project, so everyone has a good understanding of what the project is about and has access to the same references all at once since everything is properly organized in the same place.\n",
    "The kind folks at milanote are giving free access with no time limit to everyone who signs up for a free account using the link in the description. So head over to https://milanote.com/mohammedagbadi to try it out for free with no time limit. All the links will be in the description, and thank you to milanote for sponsoring this video.\n",
    "\"\"\""
   ]
  },
  {
   "cell_type": "code",
   "execution_count": null,
   "metadata": {},
   "outputs": [],
   "source": [
    "print(script)"
   ]
  },
  {
   "cell_type": "code",
   "execution_count": null,
   "metadata": {},
   "outputs": [],
   "source": [
    "brief_guidelines = \"\"\"\n",
    "Brand Safety Guidelines\n",
    "Milanote does not sponsor video content that includes any of the following:\n",
    "- Explicit adult themes, language, or imagery\n",
    "- Polarising political topics\n",
    "- Personal attacks or targeted harassment\n",
    "- Unverified theories presented as facts\n",
    "\n",
    "Script flow:\n",
    "1. Introduce sponsorship\n",
    "2. Describe what Milanote is\n",
    "3. Describe how your audience could use Milanote\n",
    "4. Describe how you use Milanote\n",
    "5. Describe how to collaborate and share work\n",
    "6. Call to action\n",
    "\n",
    "What to avoid in your script:\n",
    "- **Mentioning YouTube Planning:** Since many viewers may not be YouTubers, discussing how you use Milanote for YouTube content planning may not be relatable; such as YouTube thumbnail, title, and posting schedule. Instead, discuss how it helps you as a content creator with your filmmaking, writing process, and research planning.\n",
    "- **Neglecting an Introduction:** Avoid diving straight into your project without first explaining what Milanote is. Briefly describe “Milanote is a tool for organizing your creative projects.”\n",
    "- **Sign-Up Instructions:** Refrain from mentioning 'downloading' Milanote. Instead, direct users to 'sign up for free.'\n",
    "- **Forgetting Call to Action:** Remember to encourage your viewers to sign up using the link in the description.\n",
    "\"\"\""
   ]
  },
  {
   "cell_type": "code",
   "execution_count": null,
   "metadata": {},
   "outputs": [
    {
     "name": "stdout",
     "output_type": "stream",
     "text": [
      "{\n",
      "  \"Key points\": [\n",
      "    \"Check that the script avoids explicit adult themes, language, or imagery.\",\n",
      "    \"Check that the script avoids polarising political topics.\",\n",
      "    \"Check that the script avoids personal attacks or targeted harassment.\",\n",
      "    \"Check that the script avoids unverified theories presented as facts.\",\n",
      "    \"Check that the script does not mention YouTube Planning, but instead focuses on content creation like filmmaking, writing process, and research planning.\",\n",
      "    \"Check that the script includes an introduction explaining what Milanote is as a tool for organizing creative projects.\",\n",
      "    \"Check that the script refrains from mentioning 'downloading' Milanote and directs users to 'sign up for free'.\",\n",
      "    \"Check that the script includes a call to action encouraging viewers to sign up using the link in the description.\"\n",
      "  ]\n",
      "}\n",
      "\n"
     ]
    }
   ],
   "source": [
    "# chained approach to generating feedback 3, use this\n",
    "\n",
    "# 1. Extract key sections from the brief\n",
    "system_prompt_extract = \"\"\"\n",
    "You are an AI assistant that extracts the key points from a creative brief to be used to generate feedback on submitted scripts.\n",
    "Each point should be a single string which details what needs to be checked for.\n",
    "Each point should be put into a JSON structure as shown in the following example:\n",
    "\n",
    "Input:\n",
    "Animal Guidelines\n",
    "Milanote does not sponsor video content that includes:\n",
    "- pictures or videos of animals\n",
    "\n",
    "Plant Guidelines\n",
    "Milanote recommends that sponsor video content includes:\n",
    "- pictures or videos of plants\n",
    "\n",
    "Output:\n",
    "{\n",
    "  \"Key points\": [\n",
    "    \"Check that the script does not contain any pictures or videos of animals.\",\n",
    "    \"Check that the script contains pictures or videos of plants.\"\n",
    "    ]\n",
    "}\n",
    "\n",
    "\"\"\"\n",
    "user_prompt_extract = f\"\"\"\n",
    "Creative Brief: {brief_guidelines}\n",
    "\"\"\"\n",
    "\n",
    "prompt = [\n",
    "        {\"role\": \"system\", \"content\": system_prompt_extract},\n",
    "        {\"role\": \"user\", \"content\": user_prompt_extract}\n",
    "    ]\n",
    "response_extract = client.chat.completions.create(\n",
    "    model=\"gpt-3.5-turbo\",\n",
    "    messages=prompt\n",
    ")\n",
    "key_points = response_extract.choices[0].message.content.strip()\n",
    "print(key_points)\n",
    "print()\n",
    "\n"
   ]
  },
  {
   "cell_type": "code",
   "execution_count": null,
   "metadata": {},
   "outputs": [],
   "source": [
    "key_points_json = json.loads(key_points)\n",
    "feedbacks = []\n",
    "for key, value in key_points_json.items():\n",
    "    for point in value:\n",
    "        print(point)\n",
    "        system_prompt_compare = f\"\"\"\n",
    "        Guideline:{point}. \n",
    "        Keep all feedback concise and within 1 sentence. Don't hallucinate anything.\n",
    "        If the script already follows the guideline, don't repeat the guideline\n",
    "        \"\"\"\n",
    "        user_prompt_compare = f\"\"\"\n",
    "\n",
    "        Script: {script}\n",
    "\n",
    "        \"\"\"\n",
    "        \n",
    "        prompt = [\n",
    "            {\"role\": \"system\", \"content\": system_prompt_compare},\n",
    "            {\"role\": \"user\", \"content\": user_prompt_compare}\n",
    "        ]\n",
    "        response_compare = client.chat.completions.create(\n",
    "            model=\"gpt-3.5-turbo\",\n",
    "            messages=prompt\n",
    "        )\n",
    "        feedback = response_compare.choices[0].message.content.strip()\n",
    "        # print(feedback)\n",
    "        # print()\n",
    "        feedbacks.append(feedback)\n"
   ]
  },
  {
   "cell_type": "code",
   "execution_count": null,
   "metadata": {},
   "outputs": [
    {
     "name": "stdout",
     "output_type": "stream",
     "text": [
      "The script is free of adult themes, language, or imagery, neutral and avoids polarizing political topics, refrains from personal attacks or targeted harassment, stays on track avoiding unverified theories presented as facts, and focuses on content creation through organizing and improving art projects using Milanote, aligning with the guideline of emphasizing filmmaking, writing process, and research planning rather than YouTube planning. Additionally, the script effectively includes an introduction explaining Milanote as a tool for organizing creative projects, showcases its features and benefits, refrains from mentioning 'downloading' Milanote and directs users to 'sign up for free' to try it out with no time limit, and includes a call to action encouraging viewers to sign up using the link in the description.\n"
     ]
    }
   ],
   "source": [
    "\n",
    "# 3. Combine the feedback messages\n",
    "feedback_combined_prompt = f\"\"\"\n",
    "Combine the following feedback messages into a single, cohesive feedback report. Ensure no information is repated and put it into one paragraph.\n",
    "\n",
    "Feedbacks:\n",
    "{json.dumps(feedbacks, indent=2)}\n",
    "\n",
    "Output the combined feedback.\n",
    "\"\"\"\n",
    "response_combined = client.chat.completions.create(\n",
    "    model=\"gpt-3.5-turbo\",\n",
    "    messages=[{\"role\": \"user\", \"content\": feedback_combined_prompt}]\n",
    ")\n",
    "\n",
    "combined_feedback = response_combined.choices[0].message.content.strip()\n",
    "print(combined_feedback)"
   ]
  },
  {
   "cell_type": "code",
   "execution_count": null,
   "metadata": {},
   "outputs": [],
   "source": [
    "# putting the chained approach 3 into functions\n",
    "\n",
    "def extract_key_points(brief_guidelines):\n",
    "    system_prompt_extract = \"\"\"\n",
    "    You are an AI assistant that extracts the key points from a creative brief to be used to generate feedback on submitted scripts.\n",
    "    Each point should be a single string which details what needs to be checked for.\n",
    "    Each point should be put into a JSON structure as shown in the following example:\n",
    "\n",
    "    Input:\n",
    "    Animal Guidelines\n",
    "    Milanote does not sponsor video content that includes:\n",
    "    - pictures or videos of animals\n",
    "\n",
    "    Plant Guidelines\n",
    "    Milanote recommends that sponsor video content includes:\n",
    "    - pictures or videos of plants\n",
    "\n",
    "    Output:\n",
    "    {\n",
    "    \"Key points\": [\n",
    "        \"Check that the script does not contain any pictures or videos of animals.\",\n",
    "        \"Check that the script contains pictures or videos of plants.\"\n",
    "        ]\n",
    "    }\n",
    "\n",
    "    \"\"\"\n",
    "    user_prompt_extract = f\"\"\"\n",
    "    Creative Brief: {brief_guidelines}\n",
    "    \"\"\"\n",
    "\n",
    "    prompt = [\n",
    "            {\"role\": \"system\", \"content\": system_prompt_extract},\n",
    "            {\"role\": \"user\", \"content\": user_prompt_extract}\n",
    "        ]\n",
    "    response_extract = client.chat.completions.create(\n",
    "        model=\"gpt-3.5-turbo\",\n",
    "        messages=prompt\n",
    "    )\n",
    "    key_points = response_extract.choices[0].message.content.strip()\n",
    "    \n",
    "    return key_points\n",
    "\n",
    "def compare_script_to_key_points(script, key_points):\n",
    "    key_points_json = json.loads(key_points)\n",
    "    feedbacks = []\n",
    "    for key, value in key_points_json.items():\n",
    "        for point in value:\n",
    "            system_prompt_compare = f\"\"\"\n",
    "            Guideline:{point}. \n",
    "            Keep all feedback concise and within 1 sentence. Don't hallucinate anything.\n",
    "            If the script already follows the guideline, don't repeat the guideline\n",
    "            \"\"\"\n",
    "            user_prompt_compare = f\"\"\"\n",
    "\n",
    "            Script: {script}\n",
    "\n",
    "            \"\"\"\n",
    "\n",
    "            prompt = [\n",
    "                {\"role\": \"system\", \"content\": system_prompt_compare},\n",
    "                {\"role\": \"user\", \"content\": user_prompt_compare}\n",
    "            ]\n",
    "            response_compare = client.chat.completions.create(\n",
    "                model=\"gpt-3.5-turbo\",\n",
    "                messages=prompt\n",
    "            )\n",
    "            feedback = response_compare.choices[0].message.content.strip()\n",
    "            feedbacks.append(feedback)\n",
    "    \n",
    "    return feedbacks\n",
    "\n",
    "def combine_feedback(feedbacks):\n",
    "    feedback_combined_prompt = f\"\"\"\n",
    "    Combine the following feedback messages into a single, cohesive feedback report. Ensure no information is repated and put it into one paragraph.\n",
    "\n",
    "    Feedbacks:\n",
    "    {json.dumps(feedbacks, indent=2)}\n",
    "\n",
    "    Output the combined feedback.\n",
    "    \"\"\"\n",
    "    response_combined = client.chat.completions.create(\n",
    "        model=\"gpt-3.5-turbo\",\n",
    "        messages=[{\"role\": \"user\", \"content\": feedback_combined_prompt}]\n",
    "    )\n",
    "\n",
    "    combined_feedback = response_combined.choices[0].message.content.strip()\n",
    "    \n",
    "    return combined_feedback\n"
   ]
  },
  {
   "cell_type": "markdown",
   "metadata": {},
   "source": [
    "### Method 2: extracting key points from previous feedbacks given"
   ]
  },
  {
   "cell_type": "code",
   "execution_count": 331,
   "metadata": {},
   "outputs": [],
   "source": [
    "def split_feedback(feedback):\n",
    "    # System message to set the behavior of the assistant\n",
    "    system_prompt = (\n",
    "        \"\"\"\n",
    "        You are a helpful assistant that separates client feedback into two sections: script feedback and video feedback.\n",
    "        Your task is to process the input text and output the results in JSON format, clearly separating the two sections.\n",
    "\n",
    "        - Script feedback: Include only feedback related to the script content (e.g., changes to lines, structure, tone, or messaging).\n",
    "        - Video feedback: Include only instructions, reminders, or tips about video creation, screen recording, or other non-script-related tasks.\n",
    "\n",
    "        If one of the sections does not have content, set it to `null`.\n",
    "\n",
    "        Output the response as a JSON object with the following structure:\n",
    "\n",
    "        {\n",
    "            \"script_feedback\": \"<content>\",\n",
    "            \"video_feedback\": \"<content>\"\n",
    "        }\n",
    "        \"\"\"\n",
    "    )\n",
    "    \n",
    "    user_message = (\n",
    "        f\"The client said: \\\"{feedback}\\\"\"\n",
    "    )\n",
    "    \n",
    "    # We'll instruct the model to provide a short bullet point or sentence summarizing the key action.\n",
    "    prompt = [\n",
    "        {\"role\": \"system\", \"content\": system_prompt},\n",
    "        {\"role\": \"user\", \"content\": user_message}\n",
    "    ]\n",
    "\n",
    "    response = client.chat.completions.create(\n",
    "        model=\"gpt-3.5-turbo\",\n",
    "        messages=prompt,\n",
    "        temperature=0.0,  # zero for more deterministic output\n",
    "    )\n",
    "    \n",
    "    json_string = response.choices[0].message.content.strip()\n",
    "    splits = json.loads(json_string)\n",
    "    first_word = feedback.lower().split()[0]  # Get the first word in lowercase\n",
    "    decision_map = {\"approved\": 1, \"rejected\": 0}  # Define the mapping\n",
    "    splits[\"decision\"] = decision_map.get(first_word, None)\n",
    "\n",
    "    # Extract the assistant's final answer\n",
    "    return splits"
   ]
  },
  {
   "cell_type": "code",
   "execution_count": 336,
   "metadata": {},
   "outputs": [],
   "source": [
    "\n",
    "def extract_script_key_points_2(script_feedback, decision): # feedback in structured format\n",
    "    # System message to set the behavior of the assistant\n",
    "    system_prompt = (\n",
    "        \"\"\"\n",
    "        You are a helpful assistant that extracts actionable key points from the script feedback section. \n",
    "        Your task is to focus on summarizing the main instructions or requirements as a structured output, \n",
    "        organized by themes. \n",
    "\n",
    "        Each theme should represent the topic of the feedback, which should be a few words summarising what the feedback is about. (e.g., \"Links and user engagement\", \"Overall value of the product\", or the theme could be related to specific features of the product). \n",
    "        For each theme, list the key points as concise and actionable guidelines. Focus on the big-picture intent \n",
    "        of the feedback rather than quoting or paraphrasing specific phrases. there can be multiple themes discussed in the feedback message.\n",
    "\n",
    "        Output the response as a structured JSON object with the following format:\n",
    "\n",
    "        {\n",
    "            \"Theme 1\": [\"Key point 1\", \"Key point 2\"],\n",
    "            \"Theme 2\": [\"Key point 3\", \"Key point 4\"]\n",
    "        }\n",
    "\n",
    "        If there is only one theme, structure the output with a single key-value pair. If no feedback is provided, return an empty JSON object (`{}`).\n",
    "\n",
    "        Example 1:\n",
    "\n",
    "        Input:\n",
    "        The script looks great and I am happy to approve it. Great work!!\n",
    "        Just one small note: where you say \"\"But don’t take my word for it, give Milanote a go for your next project and experience it for yourself!\"\" can you please add a line saying something along the lines of \"\"I have added a link for you in the description box\"\". It would help to have a CTA in the middle of the video as well.\n",
    "\n",
    "        Output:\n",
    "        {\n",
    "            \"Links and user engagement\": [\n",
    "                \"Mention the link in the description box.\",\n",
    "                \"Include a CTA during the video.\"\n",
    "            ]\n",
    "        }\n",
    "        \n",
    "        Example 2:\n",
    "        \n",
    "        Input:\n",
    "        Just one small note: Where you say \"whether you're a crochet designer or fashion designer, Milanote makes starting a new project........\", could you please change that to \"whether you're a crochet designer or fashion designer or a creative in general, Milanote makes starting a new project.....\" because we don't want the audience to get confused and think that Milanote is just limited to fashion projects.\n",
    "        \n",
    "        Output:\n",
    "        {\n",
    "            \"Milanote use cases\": [\n",
    "                \"Don't make it seem like Milanote only caters to certain projects, as it is a tool for all creative work.\"\n",
    "            ]\n",
    "        }\n",
    "        \n",
    "        \n",
    "        Remember:\n",
    "        - Identify the theme(s) of the feedback based on the main ideas.\n",
    "        - Focus on the intent, themes, or high-level suggestions behind the feedback.\n",
    "        - Group actionable points under their respective themes as lists.\n",
    "        - Avoid quoting specific phrases or rewording client-provided text.\n",
    "        - Keep responses concise, actionable, and focused on what the reviewer needs to know.\n",
    "        \"\"\"\n",
    "    )\n",
    "    \n",
    "    # The user's feedback message\n",
    "    user_message = (\n",
    "        f\"Script feedback: \\\"{script_feedback}\\\"\"\n",
    "    )\n",
    "    \n",
    "    # We'll instruct the model to provide a short bullet point or sentence summarizing the key action.\n",
    "    prompt = [\n",
    "        {\"role\": \"system\", \"content\": system_prompt},\n",
    "        {\"role\": \"user\", \"content\": user_message}\n",
    "    ]\n",
    "\n",
    "    response = client.chat.completions.create(\n",
    "        model=\"gpt-3.5-turbo\",\n",
    "        messages=prompt,\n",
    "        temperature=0.0,  # zero for more deterministic output\n",
    "    )\n",
    "    \n",
    "    json_string = response.choices[0].message.content.strip()\n",
    "    themes_and_points = json.loads(json_string)\n",
    "    \n",
    "    structured_output = {\n",
    "        theme: {\n",
    "            \"key_points\": points,\n",
    "            \"decision\": decision\n",
    "        }\n",
    "        for theme, points in themes_and_points.items()\n",
    "    }\n",
    "    \n",
    "    # Extract the assistant's final answer\n",
    "    return structured_output"
   ]
  },
  {
   "cell_type": "code",
   "execution_count": 207,
   "metadata": {},
   "outputs": [],
   "source": [
    "# Example 1:\n",
    "feedback_text_full = (\n",
    "\"\"\"Approved Draft Script With Feedback:\n",
    "Hey Cameron, \n",
    "\n",
    "The script looks great and I am happy to approve it. Great work!!\n",
    "\n",
    "Just one small note: where you say \"\"But don‚Äôt take my word for it, give Milanote a go for your next project and experience it for yourself!\"\" can you please add a line saying something along the lines of \"\"I have added a link for you in the description box\"\". It would help to have a CTA in the middle of the video as well. \n",
    "\n",
    "Other than that, I am happy for you to get started on your draft video. Here are some reminders for creating a great screen recording:\n",
    "- Remember to show our animated logo on the screen right as you introduce Milanote.\n",
    "- When introducing Milanote at the beginning of the segment, jump right into displaying Milanote boards on screen (We recommend showing your project board since that's what folks are most excited about).\n",
    "- Get interactive with the great boards you have built. Delete some content from your boards and add it back in while screen recording so that your audience can see the process of how a board is built on Milanote instead of just pointing to the board elements.\n",
    "- Screen record your boards in both full-screen view and zoomed-in view. This way, we can take in your entire masterpiece while also zooming in for a closer look at specific elements.\n",
    "- Show all the different features in action! For example, when you talk about the built-in templates click into the templates in your screen recording; when you talk about the web clipper tool show yourself using the tool and adding an image on your board etc.\n",
    "\n",
    "Also, a reminder to go back to the Creative Brief for more reference. Looking forward to seeing this come to life soon and thanks for all your amazing work so far!!\n",
    "\n",
    "Best, \n",
    "Himika\n",
    "\n",
    "\"\"\"\n",
    ")"
   ]
  },
  {
   "cell_type": "code",
   "execution_count": 208,
   "metadata": {},
   "outputs": [
    {
     "name": "stdout",
     "output_type": "stream",
     "text": [
      "{\n",
      "    \"script_feedback\": \"Just one small note: where you say \\\"But don‚Äôt take my word for it, give Milanote a go for your next project and experience it for yourself!\\\" can you please add a line saying something along the lines of \\\"I have added a link for you in the description box\\\". It would help to have a CTA in the middle of the video as well.\",\n",
      "    \"video_feedback\": \"Here are some reminders for creating a great screen recording: - Remember to show our animated logo on the screen right as you introduce Milanote. - When introducing Milanote at the beginning of the segment, jump right into displaying Milanote boards on screen (We recommend showing your project board since that's what folks are most excited about). - Get interactive with the great boards you have built. Delete some content from your boards and add it back in while screen recording so that your audience can see the process of how a board is built on Milanote instead of just pointing to the board elements. - Screen record your boards in both full-screen view and zoomed-in view. This way, we can take in your entire masterpiece while also zooming in for a closer look at specific elements. - Show all the different features in action! For example, when you talk about the built-in templates click into the templates in your screen recording; when you talk about the web clipper tool show yourself using the tool and adding an image on your board etc. Also, a reminder to go back to the Creative Brief for more reference.\",\n",
      "    \"decision\": 1\n",
      "}\n"
     ]
    }
   ],
   "source": [
    "# checking feedback split\n",
    "splits = split_feedback(feedback_text_full)\n",
    "print(splits)"
   ]
  },
  {
   "cell_type": "code",
   "execution_count": 209,
   "metadata": {},
   "outputs": [
    {
     "name": "stdout",
     "output_type": "stream",
     "text": [
      "Script Feedback to Process: \n",
      " Just one small note: where you say \"But don‚Äôt take my word for it, give Milanote a go for your next project and experience it for yourself!\" can you please add a line saying something along the lines of \"I have added a link for you in the description box\". It would help to have a CTA in the middle of the video as well.\n",
      "decision: 1\n"
     ]
    }
   ],
   "source": [
    "\n",
    "feedback = json.loads(splits)\n",
    "script_feedback = feedback.get(\"script_feedback\")\n",
    "decision = feedback.get(\"decision\")\n",
    "\n",
    "if script_feedback:\n",
    "    # Step 2: Pass script feedback to LLM for key-point extraction\n",
    "    print(\"Script Feedback to Process: \\n\", script_feedback)\n",
    "    print(\"decision:\", decision)\n",
    "    # Send `script_feedback` to the Step 2 prompt here.\n",
    "else:\n",
    "    print(\"No script feedback found.\")"
   ]
  },
  {
   "cell_type": "markdown",
   "metadata": {},
   "source": [
    "the key points extracted from this feedback message:"
   ]
  },
  {
   "cell_type": "code",
   "execution_count": 210,
   "metadata": {},
   "outputs": [
    {
     "name": "stdout",
     "output_type": "stream",
     "text": [
      "{'Links and user engagement': {'key_points': ['Mention the link in the description box.', 'Include a CTA during the video.'], 'decision': 1}}\n"
     ]
    }
   ],
   "source": [
    "key_script_point = extract_script_key_points_2(script_feedback, decision)\n",
    "print(key_script_point)"
   ]
  },
  {
   "cell_type": "code",
   "execution_count": 172,
   "metadata": {},
   "outputs": [],
   "source": [
    "# example 2\n",
    "\n",
    "feedback_text_full_2 = \"\"\"\n",
    "\"Approved Draft Script With Feedback:\n",
    "Hey Mohammed, \n",
    "\n",
    "Thanks for sharing your script - it looks great and I am happy to approve it :) \n",
    "\n",
    "Just one minor edit: instead of saying \"\"an interactive tool that helps you organize all the different files for your CREATIVE projects\"\" can you say something along the lines of \"\"helps you organise and visualise the planning stages of your creative projects\"\" \n",
    "\n",
    "Other than that, happy for you to put together your draft video. Here are some reminders on shooting screen-recordings for your video: \n",
    "- Remember to show our animated logo on the screen right as you introduce Milanote. You can find this in the Creative brief. \n",
    "- When introducing Milanote at the beginning of the segment, jump right into displaying Milanote boards on screen (We recommend showing your project board since that's what folks are most excited about).\n",
    "- Get interactive with the great boards you have built. Delete some content from your boards and add it back in while screen recording so that your audience can see the process of how a board is built on Milanote instead of just pointing to the board elements.\n",
    "- Screen record your boards in both full-screen view and zoomed-in view. This way, we can take in your entire masterpiece while also zooming in for a closer look at specific elements.\n",
    "- Show all the different features in action! For example, when you talk about the built-in templates click into the templates in your screen recording; when you talk about the web clipper tool show yourself using the tool and adding an image on your board etc.\n",
    "\n",
    "Thanks for the great work so far and I look forward to reviewing the draft video soon!\n",
    "\n",
    "Best, \n",
    "Himika\n",
    "\"\n",
    "\"\"\""
   ]
  },
  {
   "cell_type": "code",
   "execution_count": 173,
   "metadata": {},
   "outputs": [
    {
     "name": "stdout",
     "output_type": "stream",
     "text": [
      "{\n",
      "    \"script_feedback\": \"Just one minor edit: instead of saying \\\"an interactive tool that helps you organize all the different files for your CREATIVE projects\\\" can you say something along the lines of \\\"helps you organise and visualise the planning stages of your creative projects\\\"\",\n",
      "    \"video_feedback\": \"- Remember to show our animated logo on the screen right as you introduce Milanote. You can find this in the Creative brief.\\n- When introducing Milanote at the beginning of the segment, jump right into displaying Milanote boards on screen (We recommend showing your project board since that's what folks are most excited about).\\n- Get interactive with the great boards you have built. Delete some content from your boards and add it back in while screen recording so that your audience can see the process of how a board is built on Milanote instead of just pointing to the board elements.\\n- Screen record your boards in both full-screen view and zoomed-in view. This way, we can take in your entire masterpiece while also zooming in for a closer look at specific elements.\\n- Show all the different features in action! For example, when you talk about the built-in templates click into the templates in your screen recording; when you talk about the web clipper tool show yourself using the tool and adding an image on your board etc.\"\n",
      "}\n"
     ]
    }
   ],
   "source": [
    "splits = split_feedback(feedback_text_full_2)\n",
    "print(splits)"
   ]
  },
  {
   "cell_type": "code",
   "execution_count": 174,
   "metadata": {},
   "outputs": [
    {
     "name": "stdout",
     "output_type": "stream",
     "text": [
      "Script Feedback to Process: \n",
      " Just one minor edit: instead of saying \"an interactive tool that helps you organize all the different files for your CREATIVE projects\" can you say something along the lines of \"helps you organise and visualise the planning stages of your creative projects\"\n"
     ]
    }
   ],
   "source": [
    "feedback = json.loads(splits)\n",
    "script_feedback = feedback.get(\"script_feedback\")\n",
    "\n",
    "if script_feedback:\n",
    "    # Step 2: Pass script feedback to LLM for key-point extraction\n",
    "    print(\"Script Feedback to Process: \\n\", script_feedback)\n",
    "    # Send `script_feedback` to the Step 2 prompt here.\n",
    "else:\n",
    "    print(\"No script feedback found.\")"
   ]
  },
  {
   "cell_type": "code",
   "execution_count": 175,
   "metadata": {},
   "outputs": [
    {
     "name": "stdout",
     "output_type": "stream",
     "text": [
      "{\n",
      "    \"Clarifying product description\": [\n",
      "        \"Change description to focus on planning stages of creative projects.\"\n",
      "    ]\n",
      "}\n"
     ]
    }
   ],
   "source": [
    "key_script_point = extract_script_key_points_2(script_feedback)\n",
    "print(key_script_point)"
   ]
  },
  {
   "cell_type": "code",
   "execution_count": 280,
   "metadata": {},
   "outputs": [],
   "source": [
    "# test 3 for rejected script\n",
    "feedback_text_full_4 = \"\"\"\n",
    "Rejected Draft Script With Feedback:\n",
    "Hey callimara, \n",
    "\n",
    "Great work on the script!! I am happy to approve this as long as you make sure that you Milanote's features (e.g. boards within boards, images, notes, the ability to draw/handwrite on boards) anywhere while going through your boards. Particularly, I think the web clipper tool (https://help.milanote.com/en/articles/1015930-milanote-web-clipper-for-chrome) would be very relevant for you to talk about!\n",
    "\n",
    "Also, an edit I want to point out in the script - where you say \"so to help you up your planning game, you can also view this board and use it as a reference using the link in my description!\" are you planning on adding a separate link to your board in your description box as well? If so, please make sure that you also mention your unique CTA link that will be in your description box to your audience as well. \n",
    "\n",
    "Again, thanks for the great work! \n",
    "\n",
    "Best, \n",
    "Himika\n",
    "\"\"\""
   ]
  },
  {
   "cell_type": "code",
   "execution_count": 281,
   "metadata": {},
   "outputs": [
    {
     "name": "stdout",
     "output_type": "stream",
     "text": [
      "{'script_feedback': \"1. Consider incorporating Milanote's features like boards within boards, images, notes, and the ability to draw/handwrite on boards throughout the script. \\n2. Highlight the relevance of the web clipper tool (https://help.milanote.com/en/articles/1015930-milanote-web-clipper-for-chrome) in the script. \\n3. Clarify the mention of adding a separate link to the board in the description box and ensure the unique CTA link is clearly communicated to the audience.\", 'video_feedback': None, 'decision': 0}\n"
     ]
    }
   ],
   "source": [
    "splits = split_feedback(feedback_text_full_4)\n",
    "print(splits)"
   ]
  },
  {
   "cell_type": "code",
   "execution_count": 282,
   "metadata": {},
   "outputs": [
    {
     "name": "stdout",
     "output_type": "stream",
     "text": [
      "{'Milanote features': {'key_points': ['Incorporate features like boards within boards, images, notes, and drawing/handwriting on boards throughout the script.'], 'decision': 0}, 'Web clipper tool': {'key_points': ['Highlight the relevance of the Milanote web clipper tool in the script.'], 'decision': 0}, 'Links and user engagement': {'key_points': ['Clarify the mention of adding a separate link to the board in the description box.', 'Ensure the unique CTA link is clearly communicated to the audience.'], 'decision': 0}}\n"
     ]
    }
   ],
   "source": [
    "key_script_point = extract_script_key_points_2(splits[\"script_feedback\"], splits[\"decision\"])\n",
    "print(key_script_point)"
   ]
  },
  {
   "cell_type": "code",
   "execution_count": 306,
   "metadata": {},
   "outputs": [],
   "source": [
    "# test 5: no script feedback\n",
    "feedback_text_full_5 = \"Approved Draft Script\""
   ]
  },
  {
   "cell_type": "code",
   "execution_count": 308,
   "metadata": {},
   "outputs": [
    {
     "name": "stdout",
     "output_type": "stream",
     "text": [
      "{'script_feedback': None, 'video_feedback': None, 'decision': 1}\n"
     ]
    }
   ],
   "source": [
    "splits = split_feedback(feedback_text_full_5)\n",
    "print(splits)"
   ]
  },
  {
   "cell_type": "markdown",
   "metadata": {},
   "source": [
    "consolidating feedback key points"
   ]
  },
  {
   "cell_type": "code",
   "execution_count": 338,
   "metadata": {},
   "outputs": [],
   "source": [
    "def consolidate_feedbacks(feedback_list):\n",
    "    consolidated_feedback = {}\n",
    "    \n",
    "    for i, feedback in enumerate(feedback_list):\n",
    "        splits = split_feedback(feedback)\n",
    "        \n",
    "        \n",
    "        if script_feedback:\n",
    "            key_points = extract_script_key_points_2(splits[\"script_feedback\"], splits[\"decision\"])\n",
    "            # Consolidate results by adding themes and key points to the dictionary\n",
    "            for theme, data in key_points.items():\n",
    "                if theme not in consolidated_feedback:\n",
    "                    consolidated_feedback[theme] = {\n",
    "                        \"key_points\": [],\n",
    "                        \"decision\": data[\"decision\"] \n",
    "                    }\n",
    "                # Merge key points, avoiding duplicates\n",
    "                consolidated_feedback[theme][\"key_points\"].extend(data[\"key_points\"])\n",
    "                consolidated_feedback[theme][\"key_points\"] = list(set(consolidated_feedback[theme][\"key_points\"]))\n",
    "  \n",
    "    return consolidated_feedback\n",
    "\n"
   ]
  },
  {
   "cell_type": "markdown",
   "metadata": {},
   "source": [
    "summarising the consolidated feedback key points"
   ]
  },
  {
   "cell_type": "code",
   "execution_count": 312,
   "metadata": {},
   "outputs": [],
   "source": [
    "import json\n",
    "\n",
    "def summarize_feedback(consolidated_feedback):\n",
    "    # Convert consolidated feedback into JSON-like string for the LLM prompt\n",
    "    feedback_input = json.dumps(consolidated_feedback, indent=4)\n",
    "    \n",
    "    # LLM prompt\n",
    "    system_prompt = \"\"\"\n",
    "    You are a helpful assistant that summarizes feedback by identifying and merging similar points into a concise summary. \n",
    "    Your task is to analyze a list of key feedback points across multiple themes, remove repetitions, and combine similar ideas.\n",
    "    Maintain the same JSON structure as the original input, which is specified below:\n",
    "    \n",
    "    {\n",
    "        \"Theme 1\": {\n",
    "            \"key_points\": [\"Key point 1\", \"Key point 2\"],\n",
    "            \"decision\": 0\n",
    "        },\n",
    "        \"Theme2\": {\n",
    "            \"key_points\": [\"Key point 3\", \"Key point 4\"],\n",
    "            \"decision\": 1\n",
    "        }\n",
    "    }\n",
    "    \n",
    "    Pay attention to the decision value in each theme. If there are similar themes with different decisions, set the decision to 0.\n",
    "    \"\"\"\n",
    "    user_message = feedback_input\n",
    "    \n",
    "    prompt = [\n",
    "        {\"role\": \"system\", \"content\": system_prompt},\n",
    "        {\"role\": \"user\", \"content\": user_message}\n",
    "    ]\n",
    "\n",
    "    response = client.chat.completions.create(\n",
    "        model=\"gpt-3.5-turbo\",\n",
    "        messages=prompt,\n",
    "        temperature=0.0,  # zero for more deterministic output\n",
    "    )\n",
    "    \n",
    "    # Parse the response into a dictionary\n",
    "    output = response.choices[0].message.content.strip()\n",
    "    # print(output)   \n",
    "    # print()\n",
    "    summarized_feedback = json.loads(output)\n",
    "    \n",
    "    return summarized_feedback\n",
    "\n"
   ]
  },
  {
   "cell_type": "markdown",
   "metadata": {},
   "source": [
    "choosing a mix of accepted and rejected scripts for feedback consolidation and summarization"
   ]
  },
  {
   "cell_type": "code",
   "execution_count": 301,
   "metadata": {},
   "outputs": [],
   "source": [
    "rejected_scripts = data_scripts[data_scripts[\"decision\"] == 0]\n",
    "accepted_scripts = data_scripts[data_scripts[\"decision\"] == 1]\n"
   ]
  },
  {
   "cell_type": "code",
   "execution_count": 332,
   "metadata": {},
   "outputs": [
    {
     "name": "stdout",
     "output_type": "stream",
     "text": [
      "Feedback List:\n"
     ]
    },
    {
     "data": {
      "text/plain": [
       "[\"Approved Draft Script With Feedback:\\nHey Elizabeth, \\n\\nYour direction with the script is absolutely perfect and the example you have given for your screen recording voiceover sounds great! \\n\\nJust a reminder to make sure that you explain Milanote's features by interacting with and explaining your room makeover project because keeping in mind that your integration is 5 minutes long, sometimes it can sound like a Milanote tutorial :)\\n\\nPlease feel free to get started on your draft video. Here are our top tips for creating a great screen recording: \\n- Remember to show our animated logo on the screen right as you introduce Milanote. \\n- When introducing Milanote at the beginning of the segment, jump right into displaying Milanote boards on screen (We recommend showing your project board since that's what folks are most excited about). \\n- Get interactive with the great boards you have built. Delete some content from your boards and add it back in while screen recording so that your audience can see the process of how a board is built on Milanote instead of just pointing to the board elements. - Screen record your boards in both full-screen view and zoomed-in view. This way, we can take in your entire masterpiece while also zooming in for a closer look at specific elements. \\n- Show all the different features in action! For example, when you talk about the built-in templates click in on the templates in your screen recording; when you talk about the web clipper tool show yourself using the tool and adding an image on your board etc. \\n\\nRemember to go back to the Creative Brief for more reference. Looking forward to seeing this come to life soon and thanks for all your amazing work so far!! \\n\\nBest, Himika\",\n",
       " \"Approved Draft Script With Feedback:\\nThanks so much for sharing your script! This sounds fantastic. One small thought I had was to suggest how your audience would use Milanote and why it would bring them value, i.e. if they are a artist and have a art project they need to plan, gathering inspiration from the web, collecting references of other artist work, or making a moodboard is all possible within Milanote. You're welcome to start drafting your video. Looking forward to seeing it soon! Many thanks, Bella\",\n",
       " \"Approved Draft Script With Feedback:\\nHey shar, \\n\\nThe script looks great and brings out Milanote's value really well - great work!\\n\\nI am happy to approve this and for you to go ahead and start filming. Here are some reminders on screen-recordings so that we can make sure that minimal to no edits are required on the video: \\n\\n- Remember to show our animated logo on the screen right as you introduce Milanote. You can find this in the Creative brief. \\n- When introducing Milanote at the beginning of the segment, jump right into displaying Milanote boards on screen (We recommend showing your project board since that's what folks are most excited about). \\n- Get interactive with the great boards you have built. Delete some content from your boards and add it back in while screen recording so that your audience can see the process of how a board is built on Milanote instead of just pointing to the board elements. - Screen record your boards in both full-screen view and zoomed-in view. This way, we can take in your entire masterpiece while also zooming in for a closer look at specific elements. \\n- Show all the different features in action! For example, when you talk about the built-in templates click into the templates in your screen recording; when you talk about the web clipper tool show yourself using the tool and adding an image on your board etc. \\n\\nThanks for the fantastic work so far and I can't wait to see this come to life soon!! \\n\\nBest, \\nHimika\",\n",
       " \"Approved Draft Script With Feedback:\\nHey yaejiyea,\\n\\nThe script looks amazing! Really really great work with bringing out Milanote's value and keeping it so authentic. \\n\\n I am happy for you to record your draft video for this. Here are some reminders on screen-recording: \\n- Remember to show our animated logo on the screen right as you introduce Milanote. You can find this in the Creative brief. \\n- When introducing Milanote at the beginning of the segment, jump right into displaying Milanote boards on screen (We recommend showing your project board since that's what folks are most excited about).\\n- Get interactive with the great boards you have built. Delete some content from your boards and add it back in while screen recording so that your audience can see the process of how a board is built on Milanote instead of just pointing to the board elements.\\n- Screen record your boards in both full-screen view and zoomed-in view. This way, we can take in your entire masterpiece while also zooming in for a closer look at specific elements.\\n- Show all the different features in action! For example, when you talk about the built-in templates click into the templates in your screen recording; when you talk about the web clipper tool show yourself using the tool and adding an image on your board etc.\\n\\nThanks for the fantastic work so far and I can't wait to see this come to life soon!!\\n\\nBest, \\nHimika\\nApproved\",\n",
       " 'Approved Draft Script',\n",
       " 'Rejected Draft Script With Feedback:\\nHey Callimara, \\n\\nCould you please change the settings on the google doc, I do not have the permission to view it at the moment. Thank you!',\n",
       " 'Rejected Draft Script With Feedback:\\nHey David, \\n\\nI think this is the original script without the changes as I am not sure I see the changes in this one. Can you please confirm? :)\\n\\nBest, \\nHimika']"
      ]
     },
     "execution_count": 332,
     "metadata": {},
     "output_type": "execute_result"
    }
   ],
   "source": [
    "# Randomly sample 10 feedback messages from accepted_scripts\n",
    "sampled_accepted_feedback = accepted_scripts[\"message\"].sample(n=5, random_state=42).tolist()\n",
    "\n",
    "# Randomly sample 5 feedback messages from rejected_scripts\n",
    "sampled_rejected_feedback = rejected_scripts[\"message\"].sample(n=2, random_state=42).tolist()\n",
    "\n",
    "# Combine them into a single list\n",
    "feedback_list = sampled_accepted_feedback + sampled_rejected_feedback\n",
    "\n",
    "print(\"Feedback List:\")\n",
    "feedback_list"
   ]
  },
  {
   "cell_type": "code",
   "execution_count": null,
   "metadata": {},
   "outputs": [],
   "source": [
    "# consolidate feedback\n",
    "consolidated_feedback = consolidate_feedbacks(feedback_list)\n"
   ]
  },
  {
   "cell_type": "code",
   "execution_count": 340,
   "metadata": {},
   "outputs": [],
   "source": [
    "# summarize feedback\n",
    "summarized_feedback = summarize_feedback(consolidated_feedback)"
   ]
  },
  {
   "cell_type": "code",
   "execution_count": 341,
   "metadata": {},
   "outputs": [
    {
     "name": "stdout",
     "output_type": "stream",
     "text": [
      "{\n",
      "    \"Milanote features demonstration\": {\n",
      "        \"key_points\": [\n",
      "            \"Avoid making the integration sound like a Milanote tutorial.\",\n",
      "            \"Interact with Milanote features during the room makeover project.\"\n",
      "        ],\n",
      "        \"decision\": 1\n",
      "    },\n",
      "    \"Audience engagement and value proposition\": {\n",
      "        \"key_points\": [\n",
      "            \"Explain how the audience can use Milanote for planning art projects, gathering inspiration, collecting references, and creating mood boards.\"\n",
      "        ],\n",
      "        \"decision\": 1\n",
      "    },\n",
      "    \"Overall script feedback\": {\n",
      "        \"key_points\": [\n",
      "            \"Client approves the script for filming.\",\n",
      "            \"Emphasize showcasing Milanote's value effectively.\"\n",
      "        ],\n",
      "        \"decision\": 1\n",
      "    },\n",
      "    \"Content detail and engagement\": {\n",
      "        \"key_points\": [\n",
      "            \"Add more detail on specific features or benefits of Milanote to engage the audience further.\"\n",
      "        ],\n",
      "        \"decision\": 1\n",
      "    },\n",
      "    \"Technical issues\": {\n",
      "        \"key_points\": [\n",
      "            \"Resolve access problems with the Google Doc.\"\n",
      "        ],\n",
      "        \"decision\": 0\n",
      "    },\n",
      "    \"Script clarity\": {\n",
      "        \"key_points\": [\n",
      "            \"Confirm with the client if the original script was used or if changes were incorporated.\",\n",
      "            \"Clearly indicate any changes made in the script.\"\n",
      "        ],\n",
      "        \"decision\": 0\n",
      "    }\n",
      "}\n"
     ]
    }
   ],
   "source": [
    "print(json.dumps(summarized_feedback, indent=4))"
   ]
  },
  {
   "cell_type": "markdown",
   "metadata": {},
   "source": [
    "### last stage of pipeline: generating script feedback based on the script and key points"
   ]
  },
  {
   "cell_type": "code",
   "execution_count": 377,
   "metadata": {},
   "outputs": [],
   "source": [
    "def generate_feedback_2(script, summarized_feedback):\n",
    "    \"\"\"\n",
    "    Generate feedback for a video script using an LLM based on consolidated feedback key points.\n",
    "    \n",
    "    Args:\n",
    "        script (str): The video script to evaluate.\n",
    "        summarised_feedback (dict): Consolidated and summarised feedback with key points and decision values.\n",
    "\n",
    "    Returns:\n",
    "        str: Feedback report for the script.\n",
    "    \"\"\"\n",
    "    # LLM system prompt\n",
    "    system_prompt = \"\"\"\n",
    "    You are a helpful assistant that reviews video scripts and provides feedback based on a set of feedback key points. \n",
    "    Your task is to:\n",
    "    1. Analyze the video script and identify any relevant topics that match the provided feedback key points.\n",
    "    2. If a key point does not match any part of the script, do not talk about that point. \n",
    "    3. Add actionable feedback only for areas where the script does not align with the feedback key points.\n",
    "    4. Do not talk about more than 2 themes. The feedback needs to be concise\n",
    "\n",
    "    Output the feedback in the following format:\n",
    "    \"Draft Script with Further Feedback\"\n",
    "    <insert feedback about the script here>\n",
    "\n",
    "    \"\"\"\n",
    "\n",
    "    # Prepare user message\n",
    "    user_message = f\"\"\"\n",
    "    Script:\n",
    "    {script}\n",
    "\n",
    "    Feedback Key Points:\n",
    "    {json.dumps(summarized_feedback, indent=4)}\n",
    "    \"\"\"\n",
    "\n",
    "    # Prepare the LLM prompt\n",
    "    prompt = [\n",
    "        {\"role\": \"system\", \"content\": system_prompt},\n",
    "        {\"role\": \"user\", \"content\": user_message}\n",
    "    ]\n",
    "\n",
    "    # Call the LLM API\n",
    "    response = client.chat.completions.create(\n",
    "        model=\"gpt-3.5-turbo\",\n",
    "        messages=prompt,\n",
    "        temperature=0.0,  # Zero for deterministic output\n",
    "    )\n",
    "\n",
    "    # Extract the LLM's response\n",
    "    return response.choices[0].message.content.strip()"
   ]
  },
  {
   "cell_type": "markdown",
   "metadata": {},
   "source": [
    "generated feedback:"
   ]
  },
  {
   "cell_type": "code",
   "execution_count": 378,
   "metadata": {},
   "outputs": [
    {
     "name": "stdout",
     "output_type": "stream",
     "text": [
      "Draft Script with Further Feedback\n",
      "The script does a good job of mentioning Milanote and its features, but it could benefit from more specific details on how Milanote can be used for planning art projects, gathering inspiration, collecting references, and creating mood boards. Adding more depth on these aspects would engage the audience further and showcase Milanote's value more effectively. Consider incorporating more specific examples or scenarios where Milanote can enhance the creative process for artists.\n"
     ]
    }
   ],
   "source": [
    "test_script = accepted_scripts.iloc[15][\"input\"]\n",
    "output = generate_feedback_2(test_script, summarized_feedback)\n",
    "print(output)"
   ]
  },
  {
   "cell_type": "markdown",
   "metadata": {},
   "source": [
    "actual feedback and script"
   ]
  },
  {
   "cell_type": "code",
   "execution_count": 343,
   "metadata": {},
   "outputs": [
    {
     "name": "stdout",
     "output_type": "stream",
     "text": [
      "Every now and then I like to compare my old art and the art I make currently to see if I’m improving, and also critic myself and find areas in my art I can improve on and get better. But it’s usually difficult organizing every drawing together and putting side by side on the same page so i reached out to the heavens for help and the art gods blessed me with milanote, the sponsor of today’s video. Milanote is an interactive tool that helps you organize all the different files for your CREATIVE projects on one platform so accessing them can be easier. Milanote allows you to collect and organize pictures, videos, notes and text, and arrange them into different boards using any of their built in templates that make it easy to start off your creative projects. You can also create several tasks for different things you want to study, and tick them when you’re done. For this instance, I’ll start by creating a general board where I’ll layout a broad overview that covers everything concerning the project I’m about to work on. next I’ll move on to place my references in a sub board and place my old art and current art in separate boards so I know where to find each of them. Then I create a new board where I place both drawings side by side so I can compare them, and also make notes on things I want to improve on or change. I like to use milanote’s web clipper tool when gathering screenshots from other artists that draw in a style I admire, and then save every image or screenshot I find useful In the board. \n",
      " This also works well when you’re collaborating with other artists and working on the same project, so everyone has a good understanding of what the project is about and has access to the same references all at once since everything is properly organized in the same place.\n",
      "The kind folks at milanote are giving free access with no time limit to everyone who signs up for a free account using the link in the description. So head over to https://milanote.com/mohammedagbadi to try it out for free with no time limit. All the links will be in the description, and thank you to milanote for sponsoring this video.\n"
     ]
    }
   ],
   "source": [
    "print(accepted_scripts.iloc[15][\"input\"])\n"
   ]
  },
  {
   "cell_type": "code",
   "execution_count": 323,
   "metadata": {},
   "outputs": [
    {
     "name": "stdout",
     "output_type": "stream",
     "text": [
      "Approved Draft Script With Feedback:\n",
      "Hey Mohammed, \n",
      "\n",
      "Thanks for sharing your script - it looks great and I am happy to approve it :) \n",
      "\n",
      "Just one minor edit: instead of saying \"an interactive tool that helps you organize all the different files for your CREATIVE projects\" can you say something along the lines of \"helps you organise and visualise the planning stages of your creative projects\" \n",
      "\n",
      "Other than that, happy for you to put together your draft video. Here are some reminders on shooting screen-recordings for your video: \n",
      "- Remember to show our animated logo on the screen right as you introduce Milanote. You can find this in the Creative brief. \n",
      "- When introducing Milanote at the beginning of the segment, jump right into displaying Milanote boards on screen (We recommend showing your project board since that's what folks are most excited about).\n",
      "- Get interactive with the great boards you have built. Delete some content from your boards and add it back in while screen recording so that your audience can see the process of how a board is built on Milanote instead of just pointing to the board elements.\n",
      "- Screen record your boards in both full-screen view and zoomed-in view. This way, we can take in your entire masterpiece while also zooming in for a closer look at specific elements.\n",
      "- Show all the different features in action! For example, when you talk about the built-in templates click into the templates in your screen recording; when you talk about the web clipper tool show yourself using the tool and adding an image on your board etc.\n",
      "\n",
      "Thanks for the great work so far and I look forward to reviewing the draft video soon!\n",
      "\n",
      "Best, \n",
      "Himika\n",
      "\n"
     ]
    }
   ],
   "source": [
    "print(accepted_scripts.iloc[15][\"message\"])"
   ]
  },
  {
   "cell_type": "code",
   "execution_count": null,
   "metadata": {},
   "outputs": [],
   "source": []
  },
  {
   "cell_type": "code",
   "execution_count": null,
   "metadata": {},
   "outputs": [],
   "source": []
  },
  {
   "cell_type": "code",
   "execution_count": null,
   "metadata": {},
   "outputs": [],
   "source": []
  },
  {
   "cell_type": "code",
   "execution_count": null,
   "metadata": {},
   "outputs": [],
   "source": []
  },
  {
   "cell_type": "code",
   "execution_count": null,
   "metadata": {},
   "outputs": [],
   "source": []
  },
  {
   "cell_type": "code",
   "execution_count": null,
   "metadata": {},
   "outputs": [],
   "source": []
  },
  {
   "cell_type": "code",
   "execution_count": null,
   "metadata": {},
   "outputs": [],
   "source": []
  }
 ],
 "metadata": {
  "kernelspec": {
   "display_name": "faved",
   "language": "python",
   "name": "python3"
  },
  "language_info": {
   "codemirror_mode": {
    "name": "ipython",
    "version": 3
   },
   "file_extension": ".py",
   "mimetype": "text/x-python",
   "name": "python",
   "nbconvert_exporter": "python",
   "pygments_lexer": "ipython3",
   "version": "3.13.1"
  }
 },
 "nbformat": 4,
 "nbformat_minor": 2
}
